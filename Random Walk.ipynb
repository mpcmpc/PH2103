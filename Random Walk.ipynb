{
 "cells": [
  {
   "cell_type": "markdown",
   "metadata": {},
   "source": [
    "# PH2103 Thermal Physics - Prof. Massimo Pica Ciamarra\n",
    "\n",
    "\n",
    "# Random Walk \n",
    "\n",
    "In this notebook we study few properties of the random walk model."
   ]
  },
  {
   "cell_type": "code",
   "execution_count": 1,
   "metadata": {},
   "outputs": [],
   "source": [
    "#This cells execute some \"service\" commands, to give to the notebook some analytical and graphical abilities.\n",
    "%matplotlib notebook\n",
    "# get plots directly in notebook\n",
    "import numpy as np\n",
    "import matplotlib\n",
    "%matplotlib inline\n",
    "from matplotlib import pyplot as plt\n",
    "from matplotlib.animation import FuncAnimation"
   ]
  },
  {
   "cell_type": "markdown",
   "metadata": {},
   "source": [
    "## Trajectories of random walker in two spatial dimensions\n",
    "We consider a single walker, starting in (0,0), and illustrate its trajectory on a lattice. You can execute the cell different times to get different trajectories."
   ]
  },
  {
   "cell_type": "markdown",
   "metadata": {},
   "source": [
    "### Generation of a trajectory"
   ]
  },
  {
   "cell_type": "code",
   "execution_count": 2,
   "metadata": {},
   "outputs": [],
   "source": [
    "#number of steps\n",
    "Nsteps = 1000\n",
    "#step size\n",
    "L = 1\n",
    "# we create matrix, Path, of size Nstep x 2. \n",
    "# The two colums will contain the x and the y position after a given number of steps.\n",
    "Path = np.empty([Nsteps,2])\n",
    "#we fix the initial position, which is (0,0)\n",
    "Path[0,0]=0\n",
    "Path[0,1]=0\n",
    "\n",
    "#we now perform the walk\n",
    "#at each step, we select a random component (x or y, and thus column 0 or column 1), and a random direction, +1 o -1.\n",
    "#we then perform a step, updating the position of the selected component\n",
    "for step in range(1,Nsteps):\n",
    "    #we select a random component, using random_sample() that returns a random number in the interval [0,1]\n",
    "    if np.random.random_sample() < 0.5: component = 0 \n",
    "    else: component = 1        \n",
    "    #we select a random direction\n",
    "    if np.random.random_sample() < 0.5: direction = -1 \n",
    "    else: direction = 1\n",
    "    \n",
    "    #we perform a step along the selected component, in the given direction\n",
    "    Path[step,component] = Path[step-1,component]+direction*L\n",
    "    #along the other component, the position equals the previous one\n",
    "    Path[step,1-component] = Path[step-1,1-component]\n",
    "\n",
    "\n"
   ]
  },
  {
   "cell_type": "markdown",
   "metadata": {},
   "source": [
    "### Illustration of a trajectory"
   ]
  },
  {
   "cell_type": "code",
   "execution_count": 4,
   "metadata": {},
   "outputs": [
    {
     "data": {
      "image/png": "[encoded data removed]",
      "text/plain": [
       "<Figure size 432x288 with 1 Axes>"
      ]
     },
     "metadata": {},
     "output_type": "display_data"
    }
   ],
   "source": [
    "#since we have Nsteps steps, we expect <R^2> = Nsteps*L. \n",
    "#Therefore, the trajectory will be confined in a square with typical size sqrt(Nstep*L).\n",
    "#we first determine the limit of the figure\n",
    "limit = np.rint(1.4*(L*Nsteps)**0.5) #the x,y axis show data in the range -limit to +limit\n",
    "#we set the limit of the figure\n",
    "plt.xlim(-limit,limit)\n",
    "plt.ylim(-limit,limit)    \n",
    "#we make the figure\n",
    "#the trajectory is colored red, with a full line 'r-'\n",
    "#the final position is blue, and represented using a circle 'bo'\n",
    "plt.plot(Path[:Nsteps,0],Path[:Nsteps,1],'r-',Path[Nsteps-1:Nsteps,0],Path[Nsteps-1:Nsteps,1],'bo')  \n",
    "ax = plt.gca()\n",
    "ax.set_aspect('equal')\n",
    "\n",
    "#plt.show()"
   ]
  },
  {
   "cell_type": "markdown",
   "metadata": {
    "collapsed": true
   },
   "source": [
    "### Animation of a trajectory\n",
    "We first create an animation. We create a sequence of images, with the trajectory after a different number of steps, and then convert the sequence in a movie"
   ]
  },
  {
   "cell_type": "code",
   "execution_count": 5,
   "metadata": {},
   "outputs": [
    {
     "data": {
      "text/plain": [
       "<matplotlib.animation.FuncAnimation at 0x297130849e8>"
      ]
     },
     "execution_count": 5,
     "metadata": {},
     "output_type": "execute_result"
    },
    {
     "data": {
      "image/png": "[encoded data removed]",
      "text/plain": [
       "<Figure size 432x288 with 1 Axes>"
      ]
     },
     "metadata": {},
     "output_type": "display_data"
    }
   ],
   "source": [
    "'''\n",
    "we first create a figure, with some axes\n",
    "fig is useful if we want to change properties of the figure, or to save it\n",
    "a figure is a canvans, with some properties (background color etc, we don't change)\n",
    "'''\n",
    "fig, ax = plt.subplots()\n",
    "'''\n",
    "we add a first set of data: currently at empty set to be rendered as a red line\n",
    "we access to this set of data using \"ln\"\n",
    "'''\n",
    "ln, = plt.plot([], [], 'r-', animated=True)\n",
    "'''\n",
    "we add a second set of data: currently at empty set to be rendered as blue circles\n",
    "we access to this set of data using \"ln2\"\n",
    "'''\n",
    "ln2, = plt.plot([], [], 'bo', animated=True)\n",
    "\n",
    "'''we want a squar size ratio'''\n",
    "ax.set_aspect('equal')\n",
    "\n",
    "def init():\n",
    "    ax.set_xlim(-limit, limit)\n",
    "    ax.set_ylim(-limit, limit)\n",
    "    return ln,\n",
    "\n",
    "def update(frame):\n",
    "    '''we specify what are the data for the red line'''\n",
    "    ln.set_data(Path[:frame,0], Path[:frame,1]) \n",
    "    '''and for the blue circle'''\n",
    "    ln2.set_data(Path[frame-1:frame,0], Path[frame-1:frame,1]) \n",
    "    return ln,\n",
    "\n",
    "ani = FuncAnimation(fig, update, frames=Nsteps, init_func=init, blit=True)\n",
    "ani"
   ]
  },
  {
   "cell_type": "markdown",
   "metadata": {},
   "source": [
    "## Distribution of the end-to-end distance\n",
    "\n",
    "We compute the final $x_{end}$ positions of Nwalkers walkers starting in $x_{start} = 0$, and then plot the distribution of $x_{end}$."
   ]
  },
  {
   "cell_type": "code",
   "execution_count": 6,
   "metadata": {},
   "outputs": [],
   "source": [
    "'''\n",
    "In this cell we define a function, randomwalker, that depends on four parameters:\n",
    "N = number of steps\n",
    "start = initial position\n",
    "L = step length\n",
    "path = this is another function, to be defined later, that generate an array of N -1;+1 random numbers\n",
    "'''\n",
    "def randomwalker(N, start, L, path):\n",
    "    '''steps = vecor of N elements, that can be +1 or -1'''\n",
    "    steps    = path(N)\n",
    "    '''final position'''\n",
    "    position = start + L*steps.sum()\n",
    "    '''the outcome of the function is the position after N steps'''\n",
    "    return position\n",
    "\n",
    "'''we 'vectorize' the function randomwalker, to study many walkers at the same time\n",
    "This means that we can give as input to the function not scalars, but vectors.\n",
    "In particular, we will give as imput a vector containing a number Nwalkers of initial positions,\n",
    "and will get as output a Nwalkers final positions.\n",
    "'''\n",
    "randomwalker = np.vectorize(randomwalker)"
   ]
  },
  {
   "cell_type": "code",
   "execution_count": 6,
   "metadata": {},
   "outputs": [
    {
     "data": {
      "text/plain": [
       "[<matplotlib.lines.Line2D at 0x7fd43c79a7b8>]"
      ]
     },
     "execution_count": 6,
     "metadata": {},
     "output_type": "execute_result"
    },
    {
     "data": {
      "image/png": "[encoded data removed]",
      "text/plain": [
       "<matplotlib.figure.Figure at 0x7fd43c92e588>"
      ]
     },
     "metadata": {},
     "output_type": "display_data"
    }
   ],
   "source": [
    "'''\n",
    "we not study the distribution of the final position of a number of walkers\n",
    "'''\n",
    "\n",
    "'''number of walkers'''\n",
    "Nwalkers = 100000\n",
    "'''number of steps'''\n",
    "Nsteps = 100\n",
    "'''step size'''\n",
    "L = 1\n",
    "'''probability to move in the positive direction'''\n",
    "prob_right = 0.5\n",
    "\n",
    "'''\n",
    "a function that returns a list of N random number, that are either +1 or -1\n",
    "np.random.rand(N) is a function that returns N random numbers uniformly distributed between 0 and 1\n",
    "using np.where we transform it in a list of -1 and +1\n",
    "'''\n",
    "path = lambda Nsteps : np.where(np.random.rand(Nsteps) > prob_right, -1, 1)\n",
    "\n",
    "'''\n",
    "we call the function randomwalker. \n",
    "the result \"walkers\", is an array of Nwalkers element\n",
    "we consider the case in which all walkers start from the same position, x = 0\n",
    "'''\n",
    "walkers  = randomwalker(Nsteps, 0*np.random.random(Nwalkers), L, path)\n",
    "\n",
    "'''\n",
    "we now make a plot of the final position.\n",
    "we known that R^2 = Nsteps * L^2\n",
    "thus, typical values of R will be L sqrt(N); this allows us to fix the boundaries of the plot\n",
    "'''\n",
    "rmin = -4*Nsteps**0.5*L\n",
    "rmax = 4*Nsteps**0.5*L\n",
    "'''\n",
    "number of bins\n",
    "'''\n",
    "nbin = np.rint((2*rmax)/2)\n",
    "'''make the hisotgram'''\n",
    "hist, bins = np.histogram(walkers, bins = np.linspace(rmin, rmax, nbin))\n",
    "\n",
    "'''plot the histogram; the number of walkers per bin'''\n",
    "plt.plot(bins[:-1], hist/Nwalkers)"
   ]
  },
  {
   "cell_type": "code",
   "execution_count": null,
   "metadata": {
    "collapsed": true
   },
   "outputs": [],
   "source": []
  }
 ],
 "metadata": {
  "kernelspec": {
   "display_name": "Python 3",
   "language": "python",
   "name": "python3"
  },
  "language_info": {
   "codemirror_mode": {
    "name": "ipython",
    "version": 3
   },
   "file_extension": ".py",
   "mimetype": "text/x-python",
   "name": "python",
   "nbconvert_exporter": "python",
   "pygments_lexer": "ipython3",
   "version": "3.6.5"
  }
 },
 "nbformat": 4,
 "nbformat_minor": 2
}
