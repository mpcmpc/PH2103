{
 "cells": [
  {
   "cell_type": "markdown",
   "metadata": {},
   "source": [
    "# PH2103 Thermal Physics - Prof. Massimo Pica Ciamarra\n",
    "\n",
    "\n",
    "# Ideal Gas Law \n",
    "\n",
    "In this Notebook we explore the ideal gas law. This is the relation existing between pressure, $P$, volume $V$, and the temperature $T$ of **ideal** gases. \n",
    "\n",
    "The term **ideal** indicates that we are neglecting the energy of interaction between the gas molecules. Practically, this is a good approximation for all gases, at low densities.\n",
    "\n",
    "The ideal gas law reads \n",
    "$$PV=nRT = NkT$$\n",
    "where $n$ is the number of moles, $R$ the ideal gas constant. $nR=Nk$, where $N$ is the number of molecules, and $k$ Boltzmann's constant."
   ]
  },
  {
   "cell_type": "code",
   "execution_count": 4,
   "metadata": {
    "collapsed": false
   },
   "outputs": [
    {
     "name": "stdout",
     "output_type": "stream",
     "text": [
      "/home/massimo/.ipython\n"
     ]
    }
   ],
   "source": []
  },
  {
   "cell_type": "code",
   "execution_count": 9,
   "metadata": {
    "collapsed": false
   },
   "outputs": [
    {
     "data": {
      "text/latex": [
       "\\bf Pippo"
      ],
      "text/plain": [
       "<IPython.core.display.Latex object>"
      ]
     },
     "metadata": {},
     "output_type": "display_data"
    }
   ],
   "source": [
    "%%latex\n",
    "\\bf Pippo"
   ]
  },
  {
   "cell_type": "code",
   "execution_count": null,
   "metadata": {
    "collapsed": true
   },
   "outputs": [],
   "source": []
  }
 ],
 "metadata": {
  "kernelspec": {
   "display_name": "Python 3",
   "language": "python",
   "name": "python3"
  },
  "language_info": {
   "codemirror_mode": {
    "name": "ipython",
    "version": 3
   },
   "file_extension": ".py",
   "mimetype": "text/x-python",
   "name": "python",
   "nbconvert_exporter": "python",
   "pygments_lexer": "ipython3",
   "version": "3.6.0"
  }
 },
 "nbformat": 4,
 "nbformat_minor": 2
}
