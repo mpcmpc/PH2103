{
 "cells": [
  {
   "cell_type": "markdown",
   "metadata": {},
   "source": [
    "<h2 align=\"right\"> PH2103 Thermal Physics - Prof. Massimo Pica Ciamarra </h2> \n",
    "\n",
    "\n",
    "<h1 align=\"center\"> One dimensional diffusion equation </h1> \n"
   ]
  },
  {
   "cell_type": "markdown",
   "metadata": {},
   "source": [
    "# Use of phyton\n",
    "A jupyter script is a sequence of many cells. In our script, some cells contain text, as this one, other contain code.\n",
    "To execute the code contained in a cell, just click on it and the press \"shift+enter\". The computation done in a cell generally depends on that done on previous cells, so execute the cells one after the other."
   ]
  },
  {
   "cell_type": "markdown",
   "metadata": {},
   "source": [
    "# One dimensional heat equation\n",
    "\n",
    "\n",
    "## Introduction to the numerical technique\n",
    "Using this scriopt you can explore the one dimensional diffusion equation\n",
    "$$ \\frac{dT}{dt}= D \\frac{d^2T}{dx^2} $$\n",
    "\n",
    "We solve this equation numerically, discretizing both space and time.\n",
    "\n",
    "We describe a one dimensional system of length $L$ as a sequence of $N = \\frac{L}{dx}$ cells of length $dx$.\n",
    "Thus, instead of having the temperature as a function of the distance, $T(x)$, we will have the temperature defined on the cells, i.e at $x = 1\\cdot dx, 2\\cdot dx, ..., N \\cdot dx$. We will store the $N$ values of the temperature in a vector Temp[1], Temp[2], ..., Temp[N].\n",
    "\n",
    "Similarly, we evaluate the temperature profile, i.e. the value of the temperature on each of the cells, Temp[.], at discrete times $t = 0,dt,2d,\\ldots$, where $dt$ is our 'integration timestep'.\n",
    "\n",
    "To evolve the temperature profile, i.e. to get T[n,t+dt] at time $t+dt$ from $T[.,t]$ at time t, we use the diffusion equation.\n",
    "Indeed, we can write $n = 2, \\ldots N-1$:\n",
    "$$T[n,t+dt] = = T[n,t] + \\frac{dT[n,t]}{dt} \\cdot dt = T[n,t] + D \\frac{d^2T[n,t]}{dx^2} \\cdot dt$$.\n",
    "\n",
    "To use this equation to evaluate $T[n,t+dt]$, we have to estimate the second derivative. \n",
    "To this end, we are going to use the 2n order central approximation (see https://en.wikipedia.org/wiki/Finite_difference)\n",
    "\n",
    "$$\\frac{d^2T[n,t]}{dx^2} = \\frac{T[n+1,t]-2T[n,t]-T[n-1,t]}{dx^2}$$\n",
    "\n",
    "Accordingly, given $T[n,t]$ we can evaluate $T[n,t+dt]$, and iterating the temperature at all times.\n",
    "$$T[n,t+dt] = T[n,t] + D \\frac{T[n+1,t]-2T[n,t]-T[n-1,t]}{dx^2} \\cdot dt = T[n,t] + dTdt[n,t] \\cdot dt$$.\n",
    "\n",
    "When evaluating the above expression numerically, we define another vector, which stores the temperature changes, as in the above equation. \n",
    "\n",
    "To save memory, we are not going to store the value of the temperature at all times. We will therefore only use a vector T{N}, and keep track of the elapsed time.\n",
    "Thus the solution algorithm is a simple loop:\n",
    "\n",
    "<ol>\n",
    "<li>Evaluate: $dTdt[n] = \\frac{T[n]-2T[n]-T[n-1]}{dx^2}$</li>\n",
    "<li>Update the temperature: $T[n] = T[n] + dTdt[n] \\cdot dt$</li>\n",
    "<li>Increment the time: $t_{elapsed} = t_{elapsed} + dt$</li>\n",
    "</ol>\n",
    "## Boundary conditions\n",
    "The above equation is valid for $n > 1$ and for $n < N$. Indeed, since we have a system with $N$ cells, we cannot refer to cell $n = 0$ or to cell $n = N+1$. Physically, this corresponds to the fact that the cells the extreme of the system exchange heat with a cell of the system, and with the environment. The evolution of the cell at the boundary need therefore to be described also considering their interaction with the environment. \n",
    "\n",
    "Here, for simplicity sake, we assume these cells to act as thermal baths, i.e. we are going to keep constant both T[1] and T[N].\n",
    "\n",
    "## Initial condition\n",
    "As initial condition, we need to specify the temperature on each of the $N$ cells. We can do this as we want. However, notice that the algorithm involves the computation of spatial derivatives. Accordingly, to have numerical instabilities it is convenient for T[n] to smoothly depend on $n$."
   ]
  },
  {
   "cell_type": "code",
   "execution_count": 1,
   "metadata": {
    "collapsed": true
   },
   "outputs": [],
   "source": [
    "\n",
    "#This cells execute some \"service\" commands, to give to the notebook some analytical and graphical abilities.\n",
    "# Execute this cell - no need to look at the details\n",
    "%matplotlib notebook\n",
    "# get plots directly in notebook\n",
    "import numpy as np\n",
    "import matplotlib\n",
    "%matplotlib inline\n",
    "from matplotlib import pyplot as plt\n",
    "from matplotlib.animation import FuncAnimation"
   ]
  },
  {
   "cell_type": "markdown",
   "metadata": {},
   "source": [
    "## Model parameters\n",
    "The physical system we will consider is a rod of length $L$, and thermal diffusivity $D$. We also need to specify the material. The only material property entering into the diffusion equation is the diffusion coefficient, or thermal diffusivity. You can find typical values for different materials here: https://en.wikipedia.org/wiki/Thermal_diffusivity\n",
    "\n",
    "To discretize the system, we need to define the number of cells $N$, or equivalently $dx = L/N$, and the integration timestep, $dt$.\n",
    "\n",
    "Here we fix $D = 1$, $L = 1000$, and $dx = 1$, so that $N = 1000$. We also set $dt = 0.001$.\n",
    "We also defined a variable to keep track of the elapsed time."
   ]
  },
  {
   "cell_type": "code",
   "execution_count": 33,
   "metadata": {
    "collapsed": true
   },
   "outputs": [],
   "source": [
    "\"Model parameters\"\n",
    "D = 1\n",
    "L = 1000\n",
    "\n",
    "\"Discretization\"\n",
    "dx = 1\n",
    "N = int(L/dx)\n",
    "dt = 0.001\n",
    "#this is the vector storing the values of the temperature\n",
    "Temp = np.empty(N)\n",
    "#this is the vector storing the time derivative of the temperature\n",
    "DTdt = np.empty(N)\n",
    "\n",
    "\"Other variables\"\n",
    "#end simulation time\n",
    "end_time = 5\n",
    "#time simulated so far\n",
    "elapsed_time = 0\n",
    "# we want to plot ncurves at regular time intervales\n",
    "ncurves = 20\n",
    "# time elapsed between plots\n",
    "time_between_plots = end_time/ncurves\n",
    "# number of integration loops between plot\n",
    "num_integration_loops = int(time_between_plots/dt)"
   ]
  },
  {
   "cell_type": "markdown",
   "metadata": {},
   "source": [
    "## Initialization\n",
    "Before solving the equation, we need to specify the initial condition, i.e. the initial value of $T[n]$.\n",
    "You can play with this part.Few examples in the cell below. Uncomment the one you want to try, or write your own initial condition. \n",
    "\n",
    "Only warning: we are going to compute the second derivative of this object. If your initial condition has very large second derivatives, then in order to correctly solve the equation you need to use a very small $dt$."
   ]
  },
  {
   "cell_type": "code",
   "execution_count": 41,
   "metadata": {
    "collapsed": false
   },
   "outputs": [
    {
     "data": {
      "text/plain": [
       "[<matplotlib.lines.Line2D at 0x7fa9cdf82860>]"
      ]
     },
     "execution_count": 41,
     "metadata": {},
     "output_type": "execute_result"
    },
    {
     "data": {
      "image/png": "[encoded data removed]",
      "text/plain": [
       "<matplotlib.figure.Figure at 0x7fa9cdef56a0>"
      ]
     },
     "metadata": {},
     "output_type": "display_data"
    }
   ],
   "source": [
    "'intial condition is a Gaussian with centered L/2'\n",
    "\n",
    "# use '#' to comment in an appropriate way\n",
    "for i in range(1,N):\n",
    "    Temp[i]= np.exp( -(i-N/2)**2/(2*10**2) )\n",
    "\n",
    "#'a central fraction of the system has a constant temperature'\n",
    "#for i in range(1,N):\n",
    "#    Temp[int(N/2)-i]= 0\n",
    "\n",
    "#fraction = 0.2\n",
    "#T0 = 1\n",
    "#for i in range(0, int(N*fraction*0.5)):\n",
    "#    Temp[int(N/2)-i]= T0\n",
    "#    Temp[int(N/2)+i]= T0\n",
    "    \n",
    "'Here we plot to intial condition, to check that everything is as expected'\n",
    "plt.figure()\n",
    "plt.xlim(0,1000)\n",
    "plt.ylim(0,1.1)\n",
    "plt.xlabel('X')\n",
    "plt.ylabel('Temperature')\n",
    "\n",
    "plt.plot(Temp,'r-')"
   ]
  },
  {
   "cell_type": "code",
   "execution_count": 43,
   "metadata": {
    "collapsed": false
   },
   "outputs": [
    {
     "name": "stdout",
     "output_type": "stream",
     "text": [
      "Temperature profile at time  0.25 1 20\n",
      "Temperature profile at time  5.0 20 20\n"
     ]
    },
    {
     "data": {
      "image/png": "[encoded data removed]",
      "text/plain": [
       "<matplotlib.figure.Figure at 0x7fa9cdb529e8>"
      ]
     },
     "metadata": {},
     "output_type": "display_data"
    }
   ],
   "source": [
    "plt.figure()\n",
    "plt.xlim(0,1000)\n",
    "plt.ylim(0,1.1)\n",
    "plt.xlabel('X')\n",
    "plt.ylabel('Temperature')\n",
    "plt.plot(Temp) \n",
    "elapsed_time = 0\n",
    "for curve in range(1,ncurves):\n",
    "    #we integrate time time between two consecuive plots\n",
    "    for step in range (1,num_integration_loops):\n",
    "        #compute the derivative of the temperature\n",
    "        for n in range(2,N-1):\n",
    "            DTdt[n] = D*(Temp[n+1]-2*Temp[n]-Temp[n-1])/(dx*dx)\n",
    "        # update the temperature\n",
    "        for n in range(2,N-1):\n",
    "            Temp[n] = Temp[n]+DTdt[n]*dt\n",
    "        #advance time\n",
    "        elapsed_time = elapsed_time+dt \n",
    "    print(\"Temperature profile at time \", curve*dt*num_integration_loops, curve, ncurves )\n",
    "    plt.plot(Temp) \n"
   ]
  },
  {
   "cell_type": "code",
   "execution_count": null,
   "metadata": {
    "collapsed": true
   },
   "outputs": [],
   "source": []
  }
 ],
 "metadata": {
  "kernelspec": {
   "display_name": "Python 3",
   "language": "python",
   "name": "python3"
  },
  "language_info": {
   "codemirror_mode": {
    "name": "ipython",
    "version": 3
   },
   "file_extension": ".py",
   "mimetype": "text/x-python",
   "name": "python",
   "nbconvert_exporter": "python",
   "pygments_lexer": "ipython3",
   "version": "3.6.0"
  }
 },
 "nbformat": 4,
 "nbformat_minor": 2
}
